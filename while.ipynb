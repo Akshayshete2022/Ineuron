{
 "cells": [
  {
   "cell_type": "code",
   "execution_count": null,
   "id": "8066150f",
   "metadata": {},
   "outputs": [],
   "source": [
    "initial_speed =0\n",
    "final_speed =100\n",
    "count = 1\n",
    "while initial_speed < final_speed:\n",
    "  print(\"this is my speed\")\n",
    "  count=count+1\n",
    "if count==10:\n",
    "     break"
   ]
  },
  {
   "cell_type": "code",
   "execution_count": null,
   "id": "10f15764",
   "metadata": {},
   "outputs": [],
   "source": [
    "initial_speed =0\n",
    "final_speed =100\n",
    "count = 1\n",
    "while initial_speed <= final_speed:\n",
    "print(\"this is my speed\")\n",
    "  count=count+1\n",
    "if count==10:\n",
    "    break"
   ]
  },
  {
   "cell_type": "code",
   "execution_count": null,
   "id": "51291439",
   "metadata": {},
   "outputs": [],
   "source": []
  },
  {
   "cell_type": "code",
   "execution_count": null,
   "id": "e71257cd",
   "metadata": {},
   "outputs": [],
   "source": [
    "\n"
   ]
  },
  {
   "cell_type": "code",
   "execution_count": null,
   "id": "d53a7398",
   "metadata": {},
   "outputs": [],
   "source": []
  }
 ],
 "metadata": {
  "kernelspec": {
   "display_name": "Python 3 (ipykernel)",
   "language": "python",
   "name": "python3"
  },
  "language_info": {
   "codemirror_mode": {
    "name": "ipython",
    "version": 3
   },
   "file_extension": ".py",
   "mimetype": "text/x-python",
   "name": "python",
   "nbconvert_exporter": "python",
   "pygments_lexer": "ipython3",
   "version": "3.9.7"
  }
 },
 "nbformat": 4,
 "nbformat_minor": 5
}
