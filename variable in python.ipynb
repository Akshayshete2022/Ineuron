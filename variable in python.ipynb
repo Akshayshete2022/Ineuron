{
 "cells": [
  {
   "cell_type": "code",
   "execution_count": 2,
   "id": "3a7bb476",
   "metadata": {},
   "outputs": [],
   "source": [
    "t=(475,384,99,9,\"dnf\",\"kfkl\" )"
   ]
  },
  {
   "cell_type": "code",
   "execution_count": 3,
   "id": "2489f20e",
   "metadata": {},
   "outputs": [
    {
     "data": {
      "text/plain": [
       "tuple"
      ]
     },
     "execution_count": 3,
     "metadata": {},
     "output_type": "execute_result"
    }
   ],
   "source": [
    "type(t)"
   ]
  },
  {
   "cell_type": "code",
   "execution_count": 4,
   "id": "520981ba",
   "metadata": {},
   "outputs": [],
   "source": [
    "t={\"fjfj\",\"kffj\",8+8j,566,6}"
   ]
  },
  {
   "cell_type": "code",
   "execution_count": 5,
   "id": "baf31b65",
   "metadata": {},
   "outputs": [
    {
     "data": {
      "text/plain": [
       "set"
      ]
     },
     "execution_count": 5,
     "metadata": {},
     "output_type": "execute_result"
    }
   ],
   "source": [
    "type(t)"
   ]
  },
  {
   "cell_type": "code",
   "execution_count": 6,
   "id": "11f2b853",
   "metadata": {},
   "outputs": [],
   "source": [
    "a=[\"djf\",\"fkfj\",586+86j]"
   ]
  },
  {
   "cell_type": "code",
   "execution_count": 7,
   "id": "98b9ca4a",
   "metadata": {},
   "outputs": [
    {
     "data": {
      "text/plain": [
       "list"
      ]
     },
     "execution_count": 7,
     "metadata": {},
     "output_type": "execute_result"
    }
   ],
   "source": [
    "type(a)"
   ]
  },
  {
   "cell_type": "code",
   "execution_count": 8,
   "id": "6aab87d9",
   "metadata": {},
   "outputs": [
    {
     "name": "stderr",
     "output_type": "stream",
     "text": [
      "<>:1: SyntaxWarning: 'int' object is not callable; perhaps you missed a comma?\n",
      "<>:1: SyntaxWarning: 'int' object is not callable; perhaps you missed a comma?\n",
      "C:\\Users\\LL504\\AppData\\Local\\Temp/ipykernel_10456/445903963.py:1: SyntaxWarning: 'int' object is not callable; perhaps you missed a comma?\n",
      "  1(1)\n"
     ]
    },
    {
     "ename": "TypeError",
     "evalue": "'int' object is not callable",
     "output_type": "error",
     "traceback": [
      "\u001b[1;31m---------------------------------------------------------------------------\u001b[0m",
      "\u001b[1;31mTypeError\u001b[0m                                 Traceback (most recent call last)",
      "\u001b[1;32m~\\AppData\\Local\\Temp/ipykernel_10456/445903963.py\u001b[0m in \u001b[0;36m<module>\u001b[1;34m\u001b[0m\n\u001b[1;32m----> 1\u001b[1;33m \u001b[1;36m1\u001b[0m\u001b[1;33m(\u001b[0m\u001b[1;36m1\u001b[0m\u001b[1;33m)\u001b[0m\u001b[1;33m\u001b[0m\u001b[1;33m\u001b[0m\u001b[0m\n\u001b[0m",
      "\u001b[1;31mTypeError\u001b[0m: 'int' object is not callable"
     ]
    }
   ],
   "source": [
    "1(1)"
   ]
  },
  {
   "cell_type": "code",
   "execution_count": 9,
   "id": "ac8a0360",
   "metadata": {},
   "outputs": [
    {
     "ename": "TypeError",
     "evalue": "'list' object is not callable",
     "output_type": "error",
     "traceback": [
      "\u001b[1;31m---------------------------------------------------------------------------\u001b[0m",
      "\u001b[1;31mTypeError\u001b[0m                                 Traceback (most recent call last)",
      "\u001b[1;32m~\\AppData\\Local\\Temp/ipykernel_10456/2884796381.py\u001b[0m in \u001b[0;36m<module>\u001b[1;34m\u001b[0m\n\u001b[1;32m----> 1\u001b[1;33m \u001b[0ma\u001b[0m\u001b[1;33m(\u001b[0m\u001b[1;36m2\u001b[0m\u001b[1;33m)\u001b[0m\u001b[1;33m\u001b[0m\u001b[1;33m\u001b[0m\u001b[0m\n\u001b[0m",
      "\u001b[1;31mTypeError\u001b[0m: 'list' object is not callable"
     ]
    }
   ],
   "source": [
    "a(2)"
   ]
  },
  {
   "cell_type": "code",
   "execution_count": 10,
   "id": "12f5899f",
   "metadata": {},
   "outputs": [],
   "source": [
    "a=[374,84,48,8]"
   ]
  },
  {
   "cell_type": "markdown",
   "id": "8c022dcc",
   "metadata": {},
   "source": [
    " "
   ]
  },
  {
   "cell_type": "code",
   "execution_count": 13,
   "id": "2686d4cb",
   "metadata": {},
   "outputs": [
    {
     "data": {
      "text/plain": [
       "list"
      ]
     },
     "execution_count": 13,
     "metadata": {},
     "output_type": "execute_result"
    }
   ],
   "source": [
    "type(a)"
   ]
  },
  {
   "cell_type": "code",
   "execution_count": 14,
   "id": "e4bdc3f5",
   "metadata": {},
   "outputs": [],
   "source": [
    "i=[485,6,7,67,6]"
   ]
  },
  {
   "cell_type": "code",
   "execution_count": 15,
   "id": "60269c23",
   "metadata": {},
   "outputs": [
    {
     "data": {
      "text/plain": [
       "list"
      ]
     },
     "execution_count": 15,
     "metadata": {},
     "output_type": "execute_result"
    }
   ],
   "source": [
    "type(i)"
   ]
  },
  {
   "cell_type": "code",
   "execution_count": null,
   "id": "c188314a",
   "metadata": {},
   "outputs": [],
   "source": [
    "i=(485,6,7,67,6)"
   ]
  },
  {
   "cell_type": "code",
   "execution_count": 16,
   "id": "21ac6e1c",
   "metadata": {},
   "outputs": [
    {
     "data": {
      "text/plain": [
       "list"
      ]
     },
     "execution_count": 16,
     "metadata": {},
     "output_type": "execute_result"
    }
   ],
   "source": [
    "type(i)"
   ]
  },
  {
   "cell_type": "code",
   "execution_count": 17,
   "id": "1bf8af42",
   "metadata": {},
   "outputs": [],
   "source": [
    "s=\"this is my first programing class\""
   ]
  },
  {
   "cell_type": "code",
   "execution_count": 18,
   "id": "c6e2fd20",
   "metadata": {},
   "outputs": [
    {
     "data": {
      "text/plain": [
       "'this is my first programing class'"
      ]
     },
     "execution_count": 18,
     "metadata": {},
     "output_type": "execute_result"
    }
   ],
   "source": [
    "s"
   ]
  },
  {
   "cell_type": "code",
   "execution_count": 19,
   "id": "f2e2fd97",
   "metadata": {},
   "outputs": [
    {
     "data": {
      "text/plain": [
       "''"
      ]
     },
     "execution_count": 19,
     "metadata": {},
     "output_type": "execute_result"
    }
   ],
   "source": [
    "s[6:2]"
   ]
  },
  {
   "cell_type": "code",
   "execution_count": 20,
   "id": "efb75734",
   "metadata": {},
   "outputs": [
    {
     "data": {
      "text/plain": [
       "'h   r oanc'"
      ]
     },
     "execution_count": 20,
     "metadata": {},
     "output_type": "execute_result"
    }
   ],
   "source": [
    "s[1:30:3]"
   ]
  },
  {
   "cell_type": "code",
   "execution_count": 21,
   "id": "b100c915",
   "metadata": {},
   "outputs": [],
   "source": [
    "s=\"akshay\""
   ]
  },
  {
   "cell_type": "code",
   "execution_count": 22,
   "id": "0148c43b",
   "metadata": {},
   "outputs": [
    {
     "data": {
      "text/plain": [
       "'asa'"
      ]
     },
     "execution_count": 22,
     "metadata": {},
     "output_type": "execute_result"
    }
   ],
   "source": [
    "s[0:6:2]"
   ]
  },
  {
   "cell_type": "code",
   "execution_count": 23,
   "id": "c2a6a085",
   "metadata": {},
   "outputs": [
    {
     "data": {
      "text/plain": [
       "''"
      ]
     },
     "execution_count": 23,
     "metadata": {},
     "output_type": "execute_result"
    }
   ],
   "source": [
    "s[0:6:-1]"
   ]
  },
  {
   "cell_type": "markdown",
   "id": "3e12dfa5",
   "metadata": {},
   "source": [
    "akshay=0123456,-1jump in negative direction and moving in positive direction so this is contradiction."
   ]
  },
  {
   "cell_type": "code",
   "execution_count": 24,
   "id": "87d36dfd",
   "metadata": {},
   "outputs": [
    {
     "data": {
      "text/plain": [
       "''"
      ]
     },
     "execution_count": 24,
     "metadata": {},
     "output_type": "execute_result"
    }
   ],
   "source": [
    "s[0:6:-1]"
   ]
  },
  {
   "cell_type": "code",
   "execution_count": 25,
   "id": "ca8cfc41",
   "metadata": {},
   "outputs": [
    {
     "data": {
      "text/plain": [
       "'yahsk'"
      ]
     },
     "execution_count": 25,
     "metadata": {},
     "output_type": "execute_result"
    }
   ],
   "source": [
    "s[6:0:-1]"
   ]
  },
  {
   "cell_type": "markdown",
   "id": "6302884b",
   "metadata": {},
   "source": [
    "uper bound is excluded"
   ]
  },
  {
   "cell_type": "code",
   "execution_count": 26,
   "id": "3bec923b",
   "metadata": {},
   "outputs": [
    {
     "data": {
      "text/plain": [
       "'akshay'"
      ]
     },
     "execution_count": 26,
     "metadata": {},
     "output_type": "execute_result"
    }
   ],
   "source": [
    "s"
   ]
  },
  {
   "cell_type": "code",
   "execution_count": 27,
   "id": "8f92260b",
   "metadata": {},
   "outputs": [
    {
     "data": {
      "text/plain": [
       "'aksh'"
      ]
     },
     "execution_count": 27,
     "metadata": {},
     "output_type": "execute_result"
    }
   ],
   "source": [
    "s[:-2]"
   ]
  },
  {
   "cell_type": "markdown",
   "id": "9473ec98",
   "metadata": {},
   "source": [
    "not given starting point. only writen end pointand my jump size is not menstioned so is 1"
   ]
  },
  {
   "cell_type": "code",
   "execution_count": 28,
   "id": "bfd68154",
   "metadata": {},
   "outputs": [
    {
     "data": {
      "text/plain": [
       "'akshay'"
      ]
     },
     "execution_count": 28,
     "metadata": {},
     "output_type": "execute_result"
    }
   ],
   "source": [
    "s"
   ]
  },
  {
   "cell_type": "code",
   "execution_count": 29,
   "id": "eb1ce7fe",
   "metadata": {},
   "outputs": [
    {
     "data": {
      "text/plain": [
       "'ay'"
      ]
     },
     "execution_count": 29,
     "metadata": {},
     "output_type": "execute_result"
    }
   ],
   "source": [
    "s[-2:]"
   ]
  },
  {
   "cell_type": "code",
   "execution_count": 30,
   "id": "cb018c99",
   "metadata": {},
   "outputs": [
    {
     "data": {
      "text/plain": [
       "'asa'"
      ]
     },
     "execution_count": 30,
     "metadata": {},
     "output_type": "execute_result"
    }
   ],
   "source": [
    "s[::2]"
   ]
  },
  {
   "cell_type": "code",
   "execution_count": 31,
   "id": "5aa24739",
   "metadata": {},
   "outputs": [
    {
     "data": {
      "text/plain": [
       "'akshay'"
      ]
     },
     "execution_count": 31,
     "metadata": {},
     "output_type": "execute_result"
    }
   ],
   "source": [
    "s[0:44:1]"
   ]
  },
  {
   "cell_type": "code",
   "execution_count": 32,
   "id": "2cf211ae",
   "metadata": {},
   "outputs": [
    {
     "data": {
      "text/plain": [
       "'yahska'"
      ]
     },
     "execution_count": 32,
     "metadata": {},
     "output_type": "execute_result"
    }
   ],
   "source": [
    "s[::-1]"
   ]
  },
  {
   "cell_type": "raw",
   "id": "35fd76db",
   "metadata": {},
   "source": [
    "for reversed"
   ]
  },
  {
   "cell_type": "code",
   "execution_count": 33,
   "id": "817c6fea",
   "metadata": {},
   "outputs": [
    {
     "data": {
      "text/plain": [
       "'akshay'"
      ]
     },
     "execution_count": 33,
     "metadata": {},
     "output_type": "execute_result"
    }
   ],
   "source": [
    "s"
   ]
  },
  {
   "cell_type": "code",
   "execution_count": 35,
   "id": "3dbbfd10",
   "metadata": {},
   "outputs": [
    {
     "data": {
      "text/plain": [
       "'yhk'"
      ]
     },
     "execution_count": 35,
     "metadata": {},
     "output_type": "execute_result"
    }
   ],
   "source": [
    "s[8:0:-2]"
   ]
  },
  {
   "cell_type": "raw",
   "id": "5b083062",
   "metadata": {},
   "source": [
    "lower bound:upper bound:jump"
   ]
  },
  {
   "cell_type": "code",
   "execution_count": 36,
   "id": "158daefe",
   "metadata": {},
   "outputs": [
    {
     "ename": "NameError",
     "evalue": "name 'ineuron' is not defined",
     "output_type": "error",
     "traceback": [
      "\u001b[1;31m---------------------------------------------------------------------------\u001b[0m",
      "\u001b[1;31mNameError\u001b[0m                                 Traceback (most recent call last)",
      "\u001b[1;32m~\\AppData\\Local\\Temp/ipykernel_10456/3297701320.py\u001b[0m in \u001b[0;36m<module>\u001b[1;34m\u001b[0m\n\u001b[1;32m----> 1\u001b[1;33m \u001b[0ms\u001b[0m\u001b[1;33m=\u001b[0m\u001b[0mineuron\u001b[0m\u001b[1;33m\u001b[0m\u001b[1;33m\u001b[0m\u001b[0m\n\u001b[0m",
      "\u001b[1;31mNameError\u001b[0m: name 'ineuron' is not defined"
     ]
    }
   ],
   "source": [
    "s=ineuron"
   ]
  },
  {
   "cell_type": "code",
   "execution_count": 37,
   "id": "88fe752e",
   "metadata": {},
   "outputs": [
    {
     "ename": "NameError",
     "evalue": "name 'ineuron' is not defined",
     "output_type": "error",
     "traceback": [
      "\u001b[1;31m---------------------------------------------------------------------------\u001b[0m",
      "\u001b[1;31mNameError\u001b[0m                                 Traceback (most recent call last)",
      "\u001b[1;32m~\\AppData\\Local\\Temp/ipykernel_10456/3865968190.py\u001b[0m in \u001b[0;36m<module>\u001b[1;34m\u001b[0m\n\u001b[1;32m----> 1\u001b[1;33m \u001b[0ms3\u001b[0m\u001b[1;33m=\u001b[0m\u001b[0mineuron\u001b[0m\u001b[1;33m\u001b[0m\u001b[1;33m\u001b[0m\u001b[0m\n\u001b[0m",
      "\u001b[1;31mNameError\u001b[0m: name 'ineuron' is not defined"
     ]
    }
   ],
   "source": [
    "s3=ineuron"
   ]
  },
  {
   "cell_type": "code",
   "execution_count": 38,
   "id": "74a24f6a",
   "metadata": {},
   "outputs": [],
   "source": [
    "s3=\"ineuron\""
   ]
  },
  {
   "cell_type": "code",
   "execution_count": 39,
   "id": "e83fb60f",
   "metadata": {},
   "outputs": [
    {
     "data": {
      "text/plain": [
       "''"
      ]
     },
     "execution_count": 39,
     "metadata": {},
     "output_type": "execute_result"
    }
   ],
   "source": [
    "s3[2:7:-1]"
   ]
  },
  {
   "cell_type": "code",
   "execution_count": 40,
   "id": "5a43574a",
   "metadata": {},
   "outputs": [
    {
     "data": {
      "text/plain": [
       "'oru'"
      ]
     },
     "execution_count": 40,
     "metadata": {},
     "output_type": "execute_result"
    }
   ],
   "source": [
    "s3[-2:-5:-1]"
   ]
  },
  {
   "cell_type": "code",
   "execution_count": 41,
   "id": "a1c4693e",
   "metadata": {},
   "outputs": [
    {
     "data": {
      "text/plain": [
       "'ineur'"
      ]
     },
     "execution_count": 41,
     "metadata": {},
     "output_type": "execute_result"
    }
   ],
   "source": [
    "s3[-7:-2:1]"
   ]
  },
  {
   "cell_type": "markdown",
   "id": "f290be1d",
   "metadata": {},
   "source": [
    "properties of string it will exclude the upper bound"
   ]
  },
  {
   "cell_type": "code",
   "execution_count": 42,
   "id": "62285c9b",
   "metadata": {},
   "outputs": [
    {
     "data": {
      "text/plain": [
       "'akshay'"
      ]
     },
     "execution_count": 42,
     "metadata": {},
     "output_type": "execute_result"
    }
   ],
   "source": [
    "s"
   ]
  },
  {
   "cell_type": "code",
   "execution_count": 43,
   "id": "b1730a3f",
   "metadata": {},
   "outputs": [
    {
     "data": {
      "text/plain": [
       "''"
      ]
     },
     "execution_count": 43,
     "metadata": {},
     "output_type": "execute_result"
    }
   ],
   "source": [
    "s[5:0]"
   ]
  },
  {
   "cell_type": "markdown",
   "id": "f068e796",
   "metadata": {},
   "source": [
    "there is contradiction so it is blank"
   ]
  },
  {
   "cell_type": "code",
   "execution_count": null,
   "id": "d9306ea7",
   "metadata": {},
   "outputs": [],
   "source": []
  }
 ],
 "metadata": {
  "kernelspec": {
   "display_name": "Python 3 (ipykernel)",
   "language": "python",
   "name": "python3"
  },
  "language_info": {
   "codemirror_mode": {
    "name": "ipython",
    "version": 3
   },
   "file_extension": ".py",
   "mimetype": "text/x-python",
   "name": "python",
   "nbconvert_exporter": "python",
   "pygments_lexer": "ipython3",
   "version": "3.9.7"
  }
 },
 "nbformat": 4,
 "nbformat_minor": 5
}
